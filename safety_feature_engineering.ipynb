{
 "cells": [
  {
   "cell_type": "markdown",
   "metadata": {},
   "source": [
    "## Import packages"
   ]
  },
  {
   "cell_type": "code",
   "execution_count": 126,
   "metadata": {},
   "outputs": [],
   "source": [
    "## import required packages\n",
    "import pandas as pd\n",
    "import numpy as np\n",
    "import matplotlib.pyplot as plt\n",
    "import math\n",
    "from statistics import *\n",
    "import pickle\n",
    "import statistics\n",
    "from scipy.stats.stats import pearsonr\n",
    "from sklearn.metrics import auc\n",
    "from scipy import integrate"
   ]
  },
  {
   "cell_type": "markdown",
   "metadata": {},
   "source": [
    "## Import dataset"
   ]
  },
  {
   "cell_type": "code",
   "execution_count": null,
   "metadata": {},
   "outputs": [],
   "source": [
    "## load raw dataset\n",
    "with open('/Users/a/Desktop/df_raw.pkl', 'rb') as handle:\n",
    "    example = pickle.load(handle)\n",
    "    \n",
    "df=pd.DataFrame(example)"
   ]
  },
  {
   "cell_type": "code",
   "execution_count": null,
   "metadata": {},
   "outputs": [],
   "source": [
    "df = df.reset_index()"
   ]
  },
  {
   "cell_type": "code",
   "execution_count": null,
   "metadata": {},
   "outputs": [],
   "source": [
    "df.info()"
   ]
  },
  {
   "cell_type": "markdown",
   "metadata": {},
   "source": [
    "## Feature Engineering "
   ]
  },
  {
   "cell_type": "markdown",
   "metadata": {},
   "source": [
    "- Add resultant_acceleration"
   ]
  },
  {
   "cell_type": "code",
   "execution_count": 29,
   "metadata": {},
   "outputs": [],
   "source": [
    "result_acc = []\n",
    "for i in range(len(df.index.values)):\n",
    "    acc_x = df.iloc[i,:].acceleration_x\n",
    "    acc_y = df.iloc[i,:].acceleration_y\n",
    "    acc_z = df.iloc[i,:].acceleration_z\n",
    "    result_acc.append(np.sqrt(np.square(acc_x) + np.square(acc_y) + np.square(acc_z)))\n",
    "\n",
    "df['result_acceleration'] = result_acc "
   ]
  },
  {
   "cell_type": "markdown",
   "metadata": {},
   "source": [
    "- Add resultant_gyro"
   ]
  },
  {
   "cell_type": "code",
   "execution_count": 30,
   "metadata": {},
   "outputs": [],
   "source": [
    "result_gyro = []\n",
    "for i in range(len(df.index.values)):\n",
    "    gyro_x = df.iloc[i,:].gyro_x\n",
    "    gyro_y = df.iloc[i,:].gyro_y\n",
    "    gyro_z = df.iloc[i,:].gyro_z\n",
    "    result_gyro.append(np.sqrt(np.square(gyro_x) + np.square(gyro_y) + np.square(gyro_z)))\n",
    "\n",
    "df['result_gyro'] = result_gyro "
   ]
  },
  {
   "cell_type": "markdown",
   "metadata": {},
   "source": [
    "- Add rotation angle for x-axis and y-axis"
   ]
  },
  {
   "cell_type": "code",
   "execution_count": 31,
   "metadata": {},
   "outputs": [
    {
     "name": "stderr",
     "output_type": "stream",
     "text": [
      "/anaconda3/lib/python3.6/site-packages/ipykernel_launcher.py:6: RuntimeWarning: divide by zero encountered in true_divide\n",
      "  \n"
     ]
    }
   ],
   "source": [
    "rotate_x = []\n",
    "for i in range(len(df.index.values)):\n",
    "    acc_x = df.iloc[i,:].acceleration_x\n",
    "    acc_y = df.iloc[i,:].acceleration_y\n",
    "    acc_z = df.iloc[i,:].acceleration_z\n",
    "    rotate_x.append(np.arctan(acc_y / np.sqrt(np.square(acc_x)+np.square(acc_z))))\n",
    "\n",
    "df['rotate_x'] = rotate_x"
   ]
  },
  {
   "cell_type": "code",
   "execution_count": 32,
   "metadata": {},
   "outputs": [
    {
     "name": "stderr",
     "output_type": "stream",
     "text": [
      "/anaconda3/lib/python3.6/site-packages/ipykernel_launcher.py:9: RuntimeWarning: divide by zero encountered in true_divide\n",
      "  if __name__ == '__main__':\n",
      "/anaconda3/lib/python3.6/site-packages/ipykernel_launcher.py:9: RuntimeWarning: invalid value encountered in true_divide\n",
      "  if __name__ == '__main__':\n"
     ]
    }
   ],
   "source": [
    "def flip_sign(list_):\n",
    "    return [-x for x in list_]\n",
    "\n",
    "rotate_y = []\n",
    "\n",
    "for i in range(len(df.index.values)):\n",
    "    acc_x = flip_sign(df.iloc[i,:].acceleration_x)\n",
    "    acc_z = df.iloc[i,:].acceleration_z\n",
    "    rotate_y.append(np.arctan(np.array(acc_x) / np.array(acc_z)))\n",
    "\n",
    "df['rotate_y'] = rotate_y"
   ]
  },
  {
   "cell_type": "markdown",
   "metadata": {},
   "source": [
    "- Extract features from raw dataset"
   ]
  },
  {
   "cell_type": "code",
   "execution_count": 111,
   "metadata": {},
   "outputs": [],
   "source": [
    "class feature_global():\n",
    "    \n",
    "    def __init__ (self, df):\n",
    "        self.df = df \n",
    "        \n",
    "    def sum_(self,field,index):\n",
    "        return sum(np.abs(self.df.iloc[index,:][field]))\n",
    "    \n",
    "    def mean(self,field,index):\n",
    "        return np.mean(self.df.iloc[index,:][field])\n",
    "    \n",
    "    def max_(self,field,index):\n",
    "        return max(self.df.iloc[index,:][field]) \n",
    "    \n",
    "    def iqr(self,field,index):   ## Interquantile range\n",
    "        return np.percentile(self.df.iloc[index,:][field],75) - np.percentile(self.df.iloc[index,:][field],25)     \n",
    "    \n",
    "    def integrate(self,field,index):\n",
    "        integ = auc(self.df.iloc[index,:].second,np.abs(self.df.iloc[index,:][field]))\n",
    "        return integ\n",
    "    \n",
    "    def max_consecutive_increase(self,field,index): ##maximum interval of consecutive increase\n",
    "        list_ = self.df.iloc[index,:][field]\n",
    "        max_increase = 0     \n",
    "        count = 0\n",
    "        for i in range(len(list_)-1):\n",
    "            if list_[i+1] > list_[i]:\n",
    "                count += 1\n",
    "                if count > max_increase:\n",
    "                    max_increase = count\n",
    "            else: \n",
    "                count = 0\n",
    "        return (max_increase + 1)/len(list_)\n",
    "    \n",
    "    def max_consecutive_decrease(self,field,index):##maximum interval of consecutive decrease\n",
    "        list_ = self.df.iloc[index,:][field]\n",
    "        max_decrease = 0     \n",
    "        count = 0\n",
    "        for i in range(len(list_)-1):\n",
    "            if list_[i+1] < list_[i]:\n",
    "                count += 1\n",
    "                if count > max_decrease:\n",
    "                    max_decrease = count\n",
    "            else: \n",
    "                count = 0\n",
    "        return (max_decrease + 1)/len(list_)\n",
    "    \n",
    "    def change(self,field,index):  ## change in time series (return the mean and max)\n",
    "        a = self.df.iloc[index,:][field]\n",
    "        list_ = [(x - a[i-1]) for i, x in enumerate(a)][1:]\n",
    "        return [statistics.mean(list_),max(list_)]      \n",
    "    \n",
    "    def avg_speed(self,index): ## average speed over the total trip\n",
    "        distance = feature_global.integrate(self,'Speed',index)\n",
    "        return distance / self.df.iloc[index,:].second[-1]\n",
    "    \n",
    "    def avg_gyro(self,index): ## average angle rotated over the total trip\n",
    "        rad_dist = feature_global.integrate(self,'result_gyro',index)\n",
    "        return rad_dist / self.df.iloc[index,:].second[-1]\n",
    "        \n",
    "    def bearing(self,index):  ## change in bearing \n",
    "        a = self.df.iloc[index,:]['Bearing']\n",
    "        distance = feature_global.integrate(self,'Speed',index)\n",
    "        diff_bear = []\n",
    "        \n",
    "        for i in range(1,len(a)):  \n",
    "            if a[i]<90 and a[i-1]>270:   ## this is because the bearing has range(0,360), change from 359.9 to 1 is not 358.9 but 360-359.9+1\n",
    "                diff_bear.append(a[i] + 360 - a[i-1])\n",
    "            elif a[i]>270 and a[i-1]<90:\n",
    "                diff_bear.append(a[i-1] + 360 - a[i])\n",
    "            else:\n",
    "                diff_bear.append(a[i] - a[i-1])\n",
    "        \n",
    "        return [statistics.mean(diff_bear), max(diff_bear), sum(diff_bear)/distance ] ##return mean, max, change in bearing per distance travelled\n"
   ]
  },
  {
   "cell_type": "code",
   "execution_count": 112,
   "metadata": {},
   "outputs": [],
   "source": [
    "acc_mean = []\n",
    "acc_max = []\n",
    "acc_iqr = []\n",
    "acc_increase = []\n",
    "acc_decrease = []\n",
    "acc_mean_diff = []\n",
    "acc_max_diff = []"
   ]
  },
  {
   "cell_type": "code",
   "execution_count": 113,
   "metadata": {},
   "outputs": [],
   "source": [
    "rotate_x_max = []\n",
    "rotate_x_max_diff = []\n",
    "rotate_x_dist = []\n",
    "\n",
    "rotate_y_max = []\n",
    "rotate_y_max_diff = []\n",
    "rotate_y_dist = []\n",
    "\n",
    "rotate_z_dist = []"
   ]
  },
  {
   "cell_type": "code",
   "execution_count": 114,
   "metadata": {},
   "outputs": [],
   "source": [
    "gyro_mean = []\n",
    "gyro_max = []\n",
    "gyro_iqr = []\n",
    "gyro_increase = []\n",
    "gyro_decrease = []\n",
    "rad_dist = []\n",
    "avg_gyro = []"
   ]
  },
  {
   "cell_type": "code",
   "execution_count": 115,
   "metadata": {},
   "outputs": [],
   "source": [
    "speed_mean = []\n",
    "speed_max = []\n",
    "speed_iqr = []\n",
    "speed_increase = []\n",
    "speed_decrease = []\n",
    "distance = []\n",
    "avg_speed = []"
   ]
  },
  {
   "cell_type": "code",
   "execution_count": 116,
   "metadata": {},
   "outputs": [],
   "source": [
    "bear_increase = []\n",
    "bear_decrease = []\n",
    "bear_mean_diff = []\n",
    "bear_max_diff = []\n",
    "bear_change_per_dist = []"
   ]
  },
  {
   "cell_type": "code",
   "execution_count": 117,
   "metadata": {},
   "outputs": [],
   "source": [
    "trip_len = []\n",
    "\n",
    "features = feature_global(df)"
   ]
  },
  {
   "cell_type": "code",
   "execution_count": 118,
   "metadata": {},
   "outputs": [
    {
     "name": "stdout",
     "output_type": "stream",
     "text": [
      "0  out of  19937  is completed\n",
      "5000  out of  19937  is completed\n",
      "10000  out of  19937  is completed\n",
      "15000  out of  19937  is completed\n"
     ]
    }
   ],
   "source": [
    "for i in range(len(df.index.values)): \n",
    "\n",
    "    acc_mean.append(features.mean('result_acceleration',i))\n",
    "    acc_max.append(features.max_('result_acceleration',i))\n",
    "    acc_iqr.append(features.iqr('result_acceleration',i))\n",
    "    acc_increase.append(features.max_consecutive_increase('result_acceleration',i))\n",
    "    acc_decrease.append(features.max_consecutive_decrease('result_acceleration',i))\n",
    "    acc_mean_diff.append(features.change('result_acceleration',i)[0])\n",
    "    acc_max_diff.append(features.change('result_acceleration',i)[1])\n",
    "    \n",
    "    gyro_mean.append(features.mean('result_gyro',i))\n",
    "    gyro_max.append(features.max_('result_gyro',i))\n",
    "    gyro_iqr.append(features.iqr('result_gyro',i))\n",
    "    gyro_increase.append(features.max_consecutive_increase('result_gyro',i))\n",
    "    gyro_decrease.append(features.max_consecutive_decrease('result_gyro',i))\n",
    "    avg_gyro.append(features.avg_gyro(i))\n",
    "    rad_dist.append(features.integrate('result_gyro',i))\n",
    "    \n",
    "    bear_increase.append(features.max_consecutive_increase('Bearing',i))\n",
    "    bear_decrease.append(features.max_consecutive_decrease('Bearing',i))\n",
    "    bear_mean_diff.append(features.bearing(i)[0])\n",
    "    bear_max_diff.append(features.bearing(i)[1])\n",
    "    bear_change_per_dist.append(features.bearing(i)[2])\n",
    "    \n",
    "    speed_mean.append(features.mean('Speed',i))\n",
    "    speed_max.append(features.max_('Speed',i))\n",
    "    speed_iqr.append(features.iqr('Speed',i))\n",
    "    speed_increase.append(features.max_consecutive_increase('Speed',i))\n",
    "    speed_decrease.append(features.max_consecutive_decrease('Speed',i))\n",
    "    distance.append(features.integrate('Speed',i))\n",
    "    avg_speed.append(features.avg_speed(i))\n",
    "\n",
    "    rotate_x_max.append(features.max_('rotate_x',i))\n",
    "    rotate_x_max_diff.append(features.change('rotate_x',i)[1])\n",
    "    rotate_x_dist.append(features.integrate('gyro_x',i))\n",
    "\n",
    "    rotate_y_max.append(features.max_('rotate_y',i))\n",
    "    rotate_y_max_diff.append(features.change('rotate_y',i)[1])\n",
    "    rotate_y_dist.append(features.integrate('gyro_y',i))\n",
    "\n",
    "    rotate_z_dist.append(features.integrate('gyro_z',i))\n",
    "\n",
    "\n",
    "    trip_len.append(df.iloc[i,:].second[-1])\n",
    "    \n",
    "    if i % 5000 ==0:\n",
    "        print(i,' out of ',len(df.index.values),' is completed')        "
   ]
  },
  {
   "cell_type": "code",
   "execution_count": 119,
   "metadata": {},
   "outputs": [
    {
     "data": {
      "text/plain": [
       "19937"
      ]
     },
     "execution_count": 119,
     "metadata": {},
     "output_type": "execute_result"
    }
   ],
   "source": [
    "len(rotate_x_dist)"
   ]
  },
  {
   "cell_type": "markdown",
   "metadata": {},
   "source": [
    "## Combine features into a single dataframe"
   ]
  },
  {
   "cell_type": "code",
   "execution_count": 120,
   "metadata": {},
   "outputs": [],
   "source": [
    "df_feature = np.c_[list(df.bookingID), list(df.label), acc_mean, \n",
    "                  acc_max,  acc_iqr, acc_increase, acc_decrease, acc_mean_diff,\n",
    "                  acc_max_diff, rotate_x_max, rotate_x_max_diff, rotate_x_dist, rotate_y_max,\n",
    "                  rotate_y_max_diff, rotate_y_dist, rotate_z_dist,gyro_mean, gyro_max, gyro_iqr,\n",
    "                  gyro_increase, gyro_decrease, rad_dist,avg_gyro, speed_mean,  speed_max,\n",
    "                  speed_iqr, speed_increase, speed_decrease, distance, avg_speed,\n",
    "                  bear_increase, bear_decrease,  bear_mean_diff, bear_max_diff,\n",
    "                  bear_change_per_dist, trip_len]"
   ]
  },
  {
   "cell_type": "code",
   "execution_count": 121,
   "metadata": {},
   "outputs": [],
   "source": [
    "df_feature = pd.DataFrame(df_feature)\n",
    "df_feature.columns = ['bookingID', 'label', 'acc_mean', \n",
    "                  'acc_max',  'acc_iqr', 'acc_increase', 'acc_decrease', 'acc_mean_diff',\n",
    "                  'acc_max_diff', 'rotate_x_max', 'rotate_x_max_diff', 'rotate_x_dist', 'rotate_y_max',\n",
    "                  'rotate_y_max_diff', 'rotate_y_dist', 'rotate_z_dist','gyro_mean', 'gyro_max', 'gyro_iqr',\n",
    "                  'gyro_increase', 'gyro_decrease', 'rad_dist','avg_gyro', 'speed_mean',  'speed_max',\n",
    "                  'speed_iqr', 'speed_increase', 'speed_decrease', 'distance', 'avg_speed',\n",
    "                  'bear_increase', 'bear_decrease',  'bear_mean_diff', 'bear_max_diff',\n",
    "                  'bear_change_per_dist', 'trip_len']"
   ]
  },
  {
   "cell_type": "code",
   "execution_count": 122,
   "metadata": {},
   "outputs": [
    {
     "data": {
      "text/html": [
       "<div>\n",
       "<style scoped>\n",
       "    .dataframe tbody tr th:only-of-type {\n",
       "        vertical-align: middle;\n",
       "    }\n",
       "\n",
       "    .dataframe tbody tr th {\n",
       "        vertical-align: top;\n",
       "    }\n",
       "\n",
       "    .dataframe thead th {\n",
       "        text-align: right;\n",
       "    }\n",
       "</style>\n",
       "<table border=\"1\" class=\"dataframe\">\n",
       "  <thead>\n",
       "    <tr style=\"text-align: right;\">\n",
       "      <th></th>\n",
       "      <th>bookingID</th>\n",
       "      <th>label</th>\n",
       "      <th>acc_mean</th>\n",
       "      <th>acc_max</th>\n",
       "      <th>acc_iqr</th>\n",
       "      <th>acc_increase</th>\n",
       "      <th>acc_decrease</th>\n",
       "      <th>acc_mean_diff</th>\n",
       "      <th>acc_max_diff</th>\n",
       "      <th>rotate_x_max</th>\n",
       "    </tr>\n",
       "  </thead>\n",
       "  <tbody>\n",
       "    <tr>\n",
       "      <th>count</th>\n",
       "      <td>1.993700e+04</td>\n",
       "      <td>19937.000000</td>\n",
       "      <td>19937.000000</td>\n",
       "      <td>19937.000000</td>\n",
       "      <td>19937.000000</td>\n",
       "      <td>19937.000000</td>\n",
       "      <td>19937.000000</td>\n",
       "      <td>19937.000000</td>\n",
       "      <td>19937.000000</td>\n",
       "      <td>19937.000000</td>\n",
       "    </tr>\n",
       "    <tr>\n",
       "      <th>mean</th>\n",
       "      <td>8.162670e+11</td>\n",
       "      <td>0.249887</td>\n",
       "      <td>9.901941</td>\n",
       "      <td>14.265175</td>\n",
       "      <td>0.710751</td>\n",
       "      <td>0.012352</td>\n",
       "      <td>0.012365</td>\n",
       "      <td>-0.000011</td>\n",
       "      <td>5.126065</td>\n",
       "      <td>0.930851</td>\n",
       "    </tr>\n",
       "    <tr>\n",
       "      <th>std</th>\n",
       "      <td>4.945061e+11</td>\n",
       "      <td>0.432958</td>\n",
       "      <td>1.015064</td>\n",
       "      <td>4.449886</td>\n",
       "      <td>0.449172</td>\n",
       "      <td>0.008892</td>\n",
       "      <td>0.008833</td>\n",
       "      <td>0.002936</td>\n",
       "      <td>4.017359</td>\n",
       "      <td>1.019177</td>\n",
       "    </tr>\n",
       "    <tr>\n",
       "      <th>min</th>\n",
       "      <td>0.000000e+00</td>\n",
       "      <td>0.000000</td>\n",
       "      <td>0.973356</td>\n",
       "      <td>1.039078</td>\n",
       "      <td>0.000000</td>\n",
       "      <td>0.001746</td>\n",
       "      <td>0.001496</td>\n",
       "      <td>-0.054645</td>\n",
       "      <td>0.040087</td>\n",
       "      <td>-1.483912</td>\n",
       "    </tr>\n",
       "    <tr>\n",
       "      <th>25%</th>\n",
       "      <td>3.865471e+11</td>\n",
       "      <td>0.000000</td>\n",
       "      <td>9.800065</td>\n",
       "      <td>12.522641</td>\n",
       "      <td>0.490622</td>\n",
       "      <td>0.006530</td>\n",
       "      <td>0.006562</td>\n",
       "      <td>-0.000737</td>\n",
       "      <td>3.428370</td>\n",
       "      <td>0.633836</td>\n",
       "    </tr>\n",
       "    <tr>\n",
       "      <th>50%</th>\n",
       "      <td>7.988639e+11</td>\n",
       "      <td>0.000000</td>\n",
       "      <td>9.876681</td>\n",
       "      <td>13.454601</td>\n",
       "      <td>0.649776</td>\n",
       "      <td>0.009615</td>\n",
       "      <td>0.009634</td>\n",
       "      <td>-0.000005</td>\n",
       "      <td>4.405947</td>\n",
       "      <td>1.538916</td>\n",
       "    </tr>\n",
       "    <tr>\n",
       "      <th>75%</th>\n",
       "      <td>1.245541e+12</td>\n",
       "      <td>0.000000</td>\n",
       "      <td>9.960951</td>\n",
       "      <td>14.732588</td>\n",
       "      <td>0.835849</td>\n",
       "      <td>0.014925</td>\n",
       "      <td>0.015009</td>\n",
       "      <td>0.000729</td>\n",
       "      <td>5.708690</td>\n",
       "      <td>1.563027</td>\n",
       "    </tr>\n",
       "    <tr>\n",
       "      <th>max</th>\n",
       "      <td>1.709397e+12</td>\n",
       "      <td>1.000000</td>\n",
       "      <td>40.021000</td>\n",
       "      <td>115.152244</td>\n",
       "      <td>11.419731</td>\n",
       "      <td>0.088235</td>\n",
       "      <td>0.098361</td>\n",
       "      <td>0.065052</td>\n",
       "      <td>101.722539</td>\n",
       "      <td>1.570796</td>\n",
       "    </tr>\n",
       "  </tbody>\n",
       "</table>\n",
       "</div>"
      ],
      "text/plain": [
       "          bookingID         label      acc_mean       acc_max       acc_iqr  \\\n",
       "count  1.993700e+04  19937.000000  19937.000000  19937.000000  19937.000000   \n",
       "mean   8.162670e+11      0.249887      9.901941     14.265175      0.710751   \n",
       "std    4.945061e+11      0.432958      1.015064      4.449886      0.449172   \n",
       "min    0.000000e+00      0.000000      0.973356      1.039078      0.000000   \n",
       "25%    3.865471e+11      0.000000      9.800065     12.522641      0.490622   \n",
       "50%    7.988639e+11      0.000000      9.876681     13.454601      0.649776   \n",
       "75%    1.245541e+12      0.000000      9.960951     14.732588      0.835849   \n",
       "max    1.709397e+12      1.000000     40.021000    115.152244     11.419731   \n",
       "\n",
       "       acc_increase  acc_decrease  acc_mean_diff  acc_max_diff  rotate_x_max  \n",
       "count  19937.000000  19937.000000   19937.000000  19937.000000  19937.000000  \n",
       "mean       0.012352      0.012365      -0.000011      5.126065      0.930851  \n",
       "std        0.008892      0.008833       0.002936      4.017359      1.019177  \n",
       "min        0.001746      0.001496      -0.054645      0.040087     -1.483912  \n",
       "25%        0.006530      0.006562      -0.000737      3.428370      0.633836  \n",
       "50%        0.009615      0.009634      -0.000005      4.405947      1.538916  \n",
       "75%        0.014925      0.015009       0.000729      5.708690      1.563027  \n",
       "max        0.088235      0.098361       0.065052    101.722539      1.570796  "
      ]
     },
     "execution_count": 122,
     "metadata": {},
     "output_type": "execute_result"
    }
   ],
   "source": [
    "df_feature.describe().iloc[:,:10]"
   ]
  },
  {
   "cell_type": "code",
   "execution_count": 123,
   "metadata": {},
   "outputs": [
    {
     "name": "stdout",
     "output_type": "stream",
     "text": [
      "<class 'pandas.core.frame.DataFrame'>\n",
      "RangeIndex: 19937 entries, 0 to 19936\n",
      "Data columns (total 36 columns):\n",
      "bookingID               19937 non-null float64\n",
      "label                   19937 non-null float64\n",
      "acc_mean                19937 non-null float64\n",
      "acc_max                 19937 non-null float64\n",
      "acc_iqr                 19937 non-null float64\n",
      "acc_increase            19937 non-null float64\n",
      "acc_decrease            19937 non-null float64\n",
      "acc_mean_diff           19937 non-null float64\n",
      "acc_max_diff            19937 non-null float64\n",
      "rotate_x_max            19937 non-null float64\n",
      "rotate_x_max_diff       19937 non-null float64\n",
      "rotate_x_dist           19937 non-null float64\n",
      "rotate_y_max            19937 non-null float64\n",
      "rotate_y_max_diff       19937 non-null float64\n",
      "rotate_y_dist           19937 non-null float64\n",
      "rotate_z_dist           19937 non-null float64\n",
      "gyro_mean               19937 non-null float64\n",
      "gyro_max                19937 non-null float64\n",
      "gyro_iqr                19937 non-null float64\n",
      "gyro_increase           19937 non-null float64\n",
      "gyro_decrease           19937 non-null float64\n",
      "rad_dist                19937 non-null float64\n",
      "avg_gyro                19937 non-null float64\n",
      "speed_mean              19937 non-null float64\n",
      "speed_max               19937 non-null float64\n",
      "speed_iqr               19937 non-null float64\n",
      "speed_increase          19937 non-null float64\n",
      "speed_decrease          19937 non-null float64\n",
      "distance                19937 non-null float64\n",
      "avg_speed               19937 non-null float64\n",
      "bear_increase           19937 non-null float64\n",
      "bear_decrease           19937 non-null float64\n",
      "bear_mean_diff          19937 non-null float64\n",
      "bear_max_diff           19937 non-null float64\n",
      "bear_change_per_dist    19937 non-null float64\n",
      "trip_len                19937 non-null float64\n",
      "dtypes: float64(36)\n",
      "memory usage: 5.5 MB\n"
     ]
    }
   ],
   "source": [
    "df_feature.info()"
   ]
  },
  {
   "cell_type": "code",
   "execution_count": 131,
   "metadata": {},
   "outputs": [],
   "source": [
    "df_feature.to_csv('/Users/a/Desktop/df_feature.csv',index=False)"
   ]
  },
  {
   "cell_type": "code",
   "execution_count": null,
   "metadata": {},
   "outputs": [],
   "source": []
  }
 ],
 "metadata": {
  "kernelspec": {
   "display_name": "Python 3",
   "language": "python",
   "name": "python3"
  },
  "language_info": {
   "codemirror_mode": {
    "name": "ipython",
    "version": 3
   },
   "file_extension": ".py",
   "mimetype": "text/x-python",
   "name": "python",
   "nbconvert_exporter": "python",
   "pygments_lexer": "ipython3",
   "version": "3.6.4"
  }
 },
 "nbformat": 4,
 "nbformat_minor": 2
}
